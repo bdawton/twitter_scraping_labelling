{
 "cells": [
  {
   "cell_type": "code",
   "execution_count": 5,
   "metadata": {},
   "outputs": [],
   "source": [
    "import pandas as pd\n",
    "import sqlalchemy as sa\n",
    "import psycopg2\n",
    "import seaborn as sns\n",
    "import config\n",
    "from tweet_analysis_functions import prefilter_tweet"
   ]
  },
  {
   "cell_type": "code",
   "execution_count": 31,
   "metadata": {},
   "outputs": [
    {
     "data": {
      "text/html": [
       "<div>\n",
       "<style scoped>\n",
       "    .dataframe tbody tr th:only-of-type {\n",
       "        vertical-align: middle;\n",
       "    }\n",
       "\n",
       "    .dataframe tbody tr th {\n",
       "        vertical-align: top;\n",
       "    }\n",
       "\n",
       "    .dataframe thead th {\n",
       "        text-align: right;\n",
       "    }\n",
       "</style>\n",
       "<table border=\"1\" class=\"dataframe\">\n",
       "  <thead>\n",
       "    <tr style=\"text-align: right;\">\n",
       "      <th></th>\n",
       "      <th>created_at</th>\n",
       "    </tr>\n",
       "  </thead>\n",
       "  <tbody>\n",
       "    <tr>\n",
       "      <th>0</th>\n",
       "      <td>2018-04-17T15:10:11.000Z</td>\n",
       "    </tr>\n",
       "    <tr>\n",
       "      <th>1</th>\n",
       "      <td>2022-03-30T23:05:14.000Z</td>\n",
       "    </tr>\n",
       "    <tr>\n",
       "      <th>2</th>\n",
       "      <td>2022-03-30T04:35:21.000Z</td>\n",
       "    </tr>\n",
       "    <tr>\n",
       "      <th>3</th>\n",
       "      <td>2022-02-28T08:43:50.000Z</td>\n",
       "    </tr>\n",
       "    <tr>\n",
       "      <th>4</th>\n",
       "      <td>2022-06-07T16:55:23.000Z</td>\n",
       "    </tr>\n",
       "  </tbody>\n",
       "</table>\n",
       "</div>"
      ],
      "text/plain": [
       "                 created_at\n",
       "0  2018-04-17T15:10:11.000Z\n",
       "1  2022-03-30T23:05:14.000Z\n",
       "2  2022-03-30T04:35:21.000Z\n",
       "3  2022-02-28T08:43:50.000Z\n",
       "4  2022-06-07T16:55:23.000Z"
      ]
     },
     "execution_count": 31,
     "metadata": {},
     "output_type": "execute_result"
    }
   ],
   "source": [
    "engine = sa.create_engine(config.engine ,connect_args={\"connect_timeout\": 60})\n",
    "\n",
    "\n",
    "\n",
    "\n",
    "queries = ['SELECT location_category FROM data_table', 'SELECT created_at FROM data_table', 'SELECT location_category,created_at FROM data_table']  # Defining query and using \"text\" and \"con\" arguemtns explicitely are to sidestep a bug w/ latest version of SQLAlcehmy\n",
    "\n",
    "df_lc = pd.read_sql_query(sql=sa.text(queries[0]), con=engine.connect())\n",
    "df_lc.replace(r'\\n','', regex=True, inplace=True) \n",
    "\n",
    "df_ca = pd.read_sql_query(sql=sa.text(queries[1]), con=engine.connect())\n",
    "df_ca.replace(r'\\n','', regex=True, inplace=True)  #not needed tbh\n",
    "#NEED TO CONVERT TIMESTAMP?\n",
    "\n",
    "df_lc_ca = pd.read_sql_query(sql=sa.text(queries[2]), con=engine.connect())\n",
    "df_lc_ca.replace(r'\\n','', regex=True, inplace=True) \n",
    "#NEED TO CONVERT TIMESTAMP?\n",
    "\n",
    "PLOT TIME RELATED STATS FROM THESE QUERIES, AND THEN EXPAND TO OTHER FEATURES "
   ]
  },
  {
   "cell_type": "code",
   "execution_count": 27,
   "metadata": {},
   "outputs": [
    {
     "name": "stdout",
     "output_type": "stream",
     "text": [
      "13065    81142\n",
      "13003    22429\n",
      "16032    20928\n",
      "17114    17936\n",
      "19047    13988\n",
      "12098    12166\n",
      "12009    11721\n",
      "16021     9944\n",
      "19009     7421\n",
      "10027     6221\n",
      "17003     3845\n",
      "16008     3836\n",
      "10056     2867\n",
      "19043     2844\n",
      "19042     1713\n",
      "10024     1390\n",
      "17066      894\n",
      "16043      786\n",
      "16003      434\n",
      "17067      159\n",
      "17065       68\n",
      "16027       27\n",
      "Name: location_category, dtype: int64\n",
      "count     222759\n",
      "unique        22\n",
      "top        13065\n",
      "freq       81142\n",
      "Name: location_category, dtype: object\n"
     ]
    },
    {
     "data": {
      "text/plain": [
       "<AxesSubplot: >"
      ]
     },
     "execution_count": 27,
     "metadata": {},
     "output_type": "execute_result"
    },
    {
     "data": {
      "image/png": "[encoded data removed]",
      "text/plain": [
       "<Figure size 640x480 with 1 Axes>"
      ]
     },
     "metadata": {},
     "output_type": "display_data"
    }
   ],
   "source": [
    "print(df_lc.location_category.value_counts())\n",
    "print(df_lc.location_category.describe())\n",
    "df_lc.location_category.hist()"
   ]
  }
 ],
 "metadata": {
  "kernelspec": {
   "display_name": "Python 3 (ipykernel)",
   "language": "python",
   "name": "python3"
  },
  "orig_nbformat": 4
 },
 "nbformat": 4,
 "nbformat_minor": 2
}
