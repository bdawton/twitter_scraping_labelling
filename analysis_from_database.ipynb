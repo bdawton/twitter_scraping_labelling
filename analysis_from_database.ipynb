{
 "cells": [
  {
   "cell_type": "code",
   "execution_count": null,
   "metadata": {},
   "outputs": [],
   "source": [
    "import pandas as pd\n",
    "import os\n",
    "import json\n",
    "import sqlalchemy as sa\n",
    "import psycopg2\n",
    "import config\n",
    "from tweet_analysis_functions import prefilter_tweet"
   ]
  },
  {
   "cell_type": "code",
   "execution_count": null,
   "metadata": {},
   "outputs": [],
   "source": [
    "engine = sa.create_engine(config.engine ,connect_args={\"connect_timeout\": 60})"
   ]
  },
  {
   "cell_type": "code",
   "execution_count": null,
   "metadata": {},
   "outputs": [],
   "source": [
    "query_full_data_table = 'SELECT * FROM data_table'\n",
    "query_full_users_table = 'SELECT * FROM users_table'\n",
    "\n",
    "df_full_data = pd.read_sql_query(sql=sa.text(query_full_data_table), con=engine.connect())\n",
    "df_full_data.replace(r'\\n','', regex=True, inplace=True)\n",
    "df_full_data.drop(\"index\", axis= 1, inplace=True) \n",
    "df_full_data.reset_index(names='index', inplace=True)\n",
    "\n",
    "df_full_users = pd.read_sql_query(sql=sa.text(query_full_users_table), con=engine.connect())\n",
    "df_full_users.replace(r'\\n','', regex=True, inplace=True)\n",
    "df_full_users.drop(\"index\", axis= 1, inplace=True)\n",
    "df_full_users.reset_index(names='index',inplace=True)  "
   ]
  },
  {
   "cell_type": "code",
   "execution_count": null,
   "metadata": {},
   "outputs": [],
   "source": [
    "df_full_data.head()"
   ]
  },
  {
   "cell_type": "code",
   "execution_count": null,
   "metadata": {},
   "outputs": [],
   "source": [
    "cwd = ('/Users/billydawton/Documents/GitHubProjects/TwitterScrapingLabelling/')\n",
    "df_full_data.to_csv(cwd+'df_full_data.csv', index=False)\n",
    "df_full_users.to_csv(cwd+'df_full_includes.csv', index=False)\n",
    "\n",
    "df_full_data.to_json(\"full_data.json\", orient=\"records\")\n",
    "#\n",
    "df_full_users.to_json(\"full_users.json\", orient=\"records\")"
   ]
  },
  {
   "cell_type": "code",
   "execution_count": null,
   "metadata": {},
   "outputs": [],
   "source": [
    "\n",
    "#PLOT TIME RELATED STATS FROM THESE QUERIES, AND THEN EXPAND TO OTHER FEATURES \n",
    "queries = ['SELECT location_category FROM data_table', 'SELECT created_at FROM data_table', 'SELECT location_category,created_at FROM data_table']  # Defining query and using \"text\" and \"con\" arguemtns explicitely are to sidestep a bug w/ latest version of SQLAlcehmy\n",
    "\n",
    "df_lc = pd.read_sql_query(sql=sa.text(queries[0]), con=engine.connect())\n",
    "df_lc.replace(r'\\n','', regex=True, inplace=True) \n",
    "\n",
    "df_ca = pd.read_sql_query(sql=sa.text(queries[1]), con=engine.connect())\n",
    "df_ca.replace(r'\\n','', regex=True, inplace=True)  #not needed tbh\n",
    "#NEED TO CONVERT TIMESTAMP?\n",
    "\n",
    "df_lc_ca = pd.read_sql_query(sql=sa.text(queries[2]), con=engine.connect())\n",
    "df_lc_ca.replace(r'\\n','', regex=True, inplace=True) \n",
    "#NEED TO CONVERT TIMESTAMP?\n",
    "\n"
   ]
  },
  {
   "cell_type": "code",
   "execution_count": null,
   "metadata": {},
   "outputs": [],
   "source": [
    "print(df_lc.location_category.value_counts())\n",
    "print(df_lc.location_category.describe())\n",
    "df_lc.location_category.hist()"
   ]
  }
 ],
 "metadata": {
  "kernelspec": {
   "display_name": ".venv",
   "language": "python",
   "name": "python3"
  },
  "language_info": {
   "codemirror_mode": {
    "name": "ipython",
    "version": 3
   },
   "file_extension": ".py",
   "mimetype": "text/x-python",
   "name": "python",
   "nbconvert_exporter": "python",
   "pygments_lexer": "ipython3",
   "version": "3.9.6"
  },
  "orig_nbformat": 4,
  "vscode": {
   "interpreter": {
    "hash": "28bdf3c630e3b16a922c2566eb53e02cd1be8142d64115f3adb308dd224c3798"
   }
  }
 },
 "nbformat": 4,
 "nbformat_minor": 2
}
